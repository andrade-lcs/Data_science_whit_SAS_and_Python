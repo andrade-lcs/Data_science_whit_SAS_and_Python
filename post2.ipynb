{
 "cells": [
  {
   "cell_type": "code",
   "execution_count": 1,
   "source": [
    "import pandas as pd\r\n",
    "import numpy as np\r\n",
    "\r\n",
    "\r\n",
    "data =  pd.read_csv('D:/Usuario/Documents/MeusDados/coursera/gapminder.csv')#marscrater_pds.csv nesarc_pds.csv addhealth_pds.csv gapminder.csv ool_pds.csv\r\n",
    "\r\n",
    "print(len(data))            #The number of observation (rows)\r\n",
    "print('variables:', len(data.columns))    #The number of variables (columns)\r\n",
    "#print(data.head(5))"
   ],
   "outputs": [
    {
     "output_type": "stream",
     "name": "stdout",
     "text": [
      "213\n",
      "variables: 16\n"
     ]
    }
   ],
   "metadata": {}
  },
  {
   "cell_type": "code",
   "execution_count": 2,
   "source": [
    "data.columns"
   ],
   "outputs": [
    {
     "output_type": "execute_result",
     "data": {
      "text/plain": [
       "Index(['country', 'incomeperperson', 'alcconsumption', 'armedforcesrate',\n",
       "       'breastcancerper100th', 'co2emissions', 'femaleemployrate', 'hivrate',\n",
       "       'internetuserate', 'lifeexpectancy', 'oilperperson', 'polityscore',\n",
       "       'relectricperperson', 'suicideper100th', 'employrate', 'urbanrate'],\n",
       "      dtype='object')"
      ]
     },
     "metadata": {},
     "execution_count": 2
    }
   ],
   "metadata": {}
  },
  {
   "cell_type": "code",
   "execution_count": 6,
   "source": [
    "sub1 = data.filter(['country', 'incomeperperson', 'lifeexpectancy', 'femaleemployrate', 'employrate', 'urbanrate', 'internetuserate', 'co2emissions', 'oilperperson', 'relectricperperson'])\r\n",
    "sub1.head()\r\n",
    "\r\n"
   ],
   "outputs": [
    {
     "output_type": "execute_result",
     "data": {
      "text/plain": [
       "       country   incomeperperson lifeexpectancy  femaleemployrate  \\\n",
       "0  Afghanistan                           48.673  25.6000003814697   \n",
       "1      Albania  1914.99655094922         76.918  42.0999984741211   \n",
       "2      Algeria  2231.99333515006         73.131  31.7000007629394   \n",
       "3      Andorra  21943.3398976022                                    \n",
       "4       Angola  1381.00426770244         51.093  69.4000015258789   \n",
       "\n",
       "         employrate urbanrate   internetuserate      co2emissions  \\\n",
       "0  55.7000007629394     24.04  3.65412162280064          75944000   \n",
       "1  51.4000015258789     46.72  44.9899469578783  223747333.333333   \n",
       "2              50.5     65.22  12.5000733055148  2932108666.66667   \n",
       "3                       88.92                81                     \n",
       "4  75.6999969482422      56.7  9.99995388324075         248358000   \n",
       "\n",
       "      oilperperson relectricperperson  \n",
       "0                                      \n",
       "1                    636.341383366604  \n",
       "2  .42009452521537   590.509814347428  \n",
       "3                                      \n",
       "4                    172.999227388199  "
      ],
      "text/html": [
       "<div>\n",
       "<style scoped>\n",
       "    .dataframe tbody tr th:only-of-type {\n",
       "        vertical-align: middle;\n",
       "    }\n",
       "\n",
       "    .dataframe tbody tr th {\n",
       "        vertical-align: top;\n",
       "    }\n",
       "\n",
       "    .dataframe thead th {\n",
       "        text-align: right;\n",
       "    }\n",
       "</style>\n",
       "<table border=\"1\" class=\"dataframe\">\n",
       "  <thead>\n",
       "    <tr style=\"text-align: right;\">\n",
       "      <th></th>\n",
       "      <th>country</th>\n",
       "      <th>incomeperperson</th>\n",
       "      <th>lifeexpectancy</th>\n",
       "      <th>femaleemployrate</th>\n",
       "      <th>employrate</th>\n",
       "      <th>urbanrate</th>\n",
       "      <th>internetuserate</th>\n",
       "      <th>co2emissions</th>\n",
       "      <th>oilperperson</th>\n",
       "      <th>relectricperperson</th>\n",
       "    </tr>\n",
       "  </thead>\n",
       "  <tbody>\n",
       "    <tr>\n",
       "      <th>0</th>\n",
       "      <td>Afghanistan</td>\n",
       "      <td></td>\n",
       "      <td>48.673</td>\n",
       "      <td>25.6000003814697</td>\n",
       "      <td>55.7000007629394</td>\n",
       "      <td>24.04</td>\n",
       "      <td>3.65412162280064</td>\n",
       "      <td>75944000</td>\n",
       "      <td></td>\n",
       "      <td></td>\n",
       "    </tr>\n",
       "    <tr>\n",
       "      <th>1</th>\n",
       "      <td>Albania</td>\n",
       "      <td>1914.99655094922</td>\n",
       "      <td>76.918</td>\n",
       "      <td>42.0999984741211</td>\n",
       "      <td>51.4000015258789</td>\n",
       "      <td>46.72</td>\n",
       "      <td>44.9899469578783</td>\n",
       "      <td>223747333.333333</td>\n",
       "      <td></td>\n",
       "      <td>636.341383366604</td>\n",
       "    </tr>\n",
       "    <tr>\n",
       "      <th>2</th>\n",
       "      <td>Algeria</td>\n",
       "      <td>2231.99333515006</td>\n",
       "      <td>73.131</td>\n",
       "      <td>31.7000007629394</td>\n",
       "      <td>50.5</td>\n",
       "      <td>65.22</td>\n",
       "      <td>12.5000733055148</td>\n",
       "      <td>2932108666.66667</td>\n",
       "      <td>.42009452521537</td>\n",
       "      <td>590.509814347428</td>\n",
       "    </tr>\n",
       "    <tr>\n",
       "      <th>3</th>\n",
       "      <td>Andorra</td>\n",
       "      <td>21943.3398976022</td>\n",
       "      <td></td>\n",
       "      <td></td>\n",
       "      <td></td>\n",
       "      <td>88.92</td>\n",
       "      <td>81</td>\n",
       "      <td></td>\n",
       "      <td></td>\n",
       "      <td></td>\n",
       "    </tr>\n",
       "    <tr>\n",
       "      <th>4</th>\n",
       "      <td>Angola</td>\n",
       "      <td>1381.00426770244</td>\n",
       "      <td>51.093</td>\n",
       "      <td>69.4000015258789</td>\n",
       "      <td>75.6999969482422</td>\n",
       "      <td>56.7</td>\n",
       "      <td>9.99995388324075</td>\n",
       "      <td>248358000</td>\n",
       "      <td></td>\n",
       "      <td>172.999227388199</td>\n",
       "    </tr>\n",
       "  </tbody>\n",
       "</table>\n",
       "</div>"
      ]
     },
     "metadata": {},
     "execution_count": 6
    }
   ],
   "metadata": {}
  },
  {
   "cell_type": "code",
   "execution_count": 12,
   "source": [
    "sub1.describe()"
   ],
   "outputs": [
    {
     "output_type": "execute_result",
     "data": {
      "text/plain": [
       "       country incomeperperson lifeexpectancy femaleemployrate employrate  \\\n",
       "count      213             213            213              213        213   \n",
       "unique     213             191            190              154        140   \n",
       "top       Iraq                                                              \n",
       "freq         1              23             22               35         35   \n",
       "\n",
       "       urbanrate internetuserate co2emissions oilperperson relectricperperson  \n",
       "count        213             213          213          213                213  \n",
       "unique       195             193          201           64                133  \n",
       "top                                                                            \n",
       "freq          10              21           13          150                 77  "
      ],
      "text/html": [
       "<div>\n",
       "<style scoped>\n",
       "    .dataframe tbody tr th:only-of-type {\n",
       "        vertical-align: middle;\n",
       "    }\n",
       "\n",
       "    .dataframe tbody tr th {\n",
       "        vertical-align: top;\n",
       "    }\n",
       "\n",
       "    .dataframe thead th {\n",
       "        text-align: right;\n",
       "    }\n",
       "</style>\n",
       "<table border=\"1\" class=\"dataframe\">\n",
       "  <thead>\n",
       "    <tr style=\"text-align: right;\">\n",
       "      <th></th>\n",
       "      <th>country</th>\n",
       "      <th>incomeperperson</th>\n",
       "      <th>lifeexpectancy</th>\n",
       "      <th>femaleemployrate</th>\n",
       "      <th>employrate</th>\n",
       "      <th>urbanrate</th>\n",
       "      <th>internetuserate</th>\n",
       "      <th>co2emissions</th>\n",
       "      <th>oilperperson</th>\n",
       "      <th>relectricperperson</th>\n",
       "    </tr>\n",
       "  </thead>\n",
       "  <tbody>\n",
       "    <tr>\n",
       "      <th>count</th>\n",
       "      <td>213</td>\n",
       "      <td>213</td>\n",
       "      <td>213</td>\n",
       "      <td>213</td>\n",
       "      <td>213</td>\n",
       "      <td>213</td>\n",
       "      <td>213</td>\n",
       "      <td>213</td>\n",
       "      <td>213</td>\n",
       "      <td>213</td>\n",
       "    </tr>\n",
       "    <tr>\n",
       "      <th>unique</th>\n",
       "      <td>213</td>\n",
       "      <td>191</td>\n",
       "      <td>190</td>\n",
       "      <td>154</td>\n",
       "      <td>140</td>\n",
       "      <td>195</td>\n",
       "      <td>193</td>\n",
       "      <td>201</td>\n",
       "      <td>64</td>\n",
       "      <td>133</td>\n",
       "    </tr>\n",
       "    <tr>\n",
       "      <th>top</th>\n",
       "      <td>Iraq</td>\n",
       "      <td></td>\n",
       "      <td></td>\n",
       "      <td></td>\n",
       "      <td></td>\n",
       "      <td></td>\n",
       "      <td></td>\n",
       "      <td></td>\n",
       "      <td></td>\n",
       "      <td></td>\n",
       "    </tr>\n",
       "    <tr>\n",
       "      <th>freq</th>\n",
       "      <td>1</td>\n",
       "      <td>23</td>\n",
       "      <td>22</td>\n",
       "      <td>35</td>\n",
       "      <td>35</td>\n",
       "      <td>10</td>\n",
       "      <td>21</td>\n",
       "      <td>13</td>\n",
       "      <td>150</td>\n",
       "      <td>77</td>\n",
       "    </tr>\n",
       "  </tbody>\n",
       "</table>\n",
       "</div>"
      ]
     },
     "metadata": {},
     "execution_count": 12
    }
   ],
   "metadata": {}
  },
  {
   "cell_type": "code",
   "execution_count": 13,
   "source": [
    "c1= data['incomeperperson'].value_counts(sort=False)\r\n",
    "print(c1)\r\n",
    "p1 = data['incomeperperson'].value_counts(sort=False, normalize=True)\r\n",
    "print(p1)"
   ],
   "outputs": [
    {
     "output_type": "stream",
     "name": "stdout",
     "text": [
      "4189.43658749046    1\n",
      "1914.99655094922    1\n",
      "595.874534521728    1\n",
      "5332.23859142075    1\n",
      "5182.14372064153    1\n",
      "                   ..\n",
      "1194.71143337515    1\n",
      "24496.0482640925    1\n",
      "6238.53750622149    1\n",
      "8614.12021915499    1\n",
      "31993.2006943997    1\n",
      "Name: incomeperperson, Length: 191, dtype: int64\n",
      "4189.43658749046    0.004695\n",
      "1914.99655094922    0.004695\n",
      "595.874534521728    0.004695\n",
      "5332.23859142075    0.004695\n",
      "5182.14372064153    0.004695\n",
      "                      ...   \n",
      "1194.71143337515    0.004695\n",
      "24496.0482640925    0.004695\n",
      "6238.53750622149    0.004695\n",
      "8614.12021915499    0.004695\n",
      "31993.2006943997    0.004695\n",
      "Name: incomeperperson, Length: 191, dtype: float64\n"
     ]
    }
   ],
   "metadata": {}
  },
  {
   "cell_type": "code",
   "execution_count": null,
   "source": [],
   "outputs": [],
   "metadata": {}
  }
 ],
 "metadata": {
  "orig_nbformat": 4,
  "language_info": {
   "name": "python",
   "version": "3.8.2",
   "mimetype": "text/x-python",
   "codemirror_mode": {
    "name": "ipython",
    "version": 3
   },
   "pygments_lexer": "ipython3",
   "nbconvert_exporter": "python",
   "file_extension": ".py"
  },
  "kernelspec": {
   "name": "python3",
   "display_name": "Python 3.8.2 32-bit"
  },
  "interpreter": {
   "hash": "19dd5068fd4c406359a86f27249fc517a25f1ed5fa0eb2341423f3354c0b7639"
  }
 },
 "nbformat": 4,
 "nbformat_minor": 2
}