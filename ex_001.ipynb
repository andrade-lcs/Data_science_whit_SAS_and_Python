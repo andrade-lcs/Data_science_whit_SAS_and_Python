{
 "cells": [
  {
   "cell_type": "code",
   "execution_count": 12,
   "source": [
    "import pandas as pd\r\n",
    "import numpy as np\r\n",
    "\r\n",
    "data = pd.read_csv('D:/Usuario/Documents/MeusDados/coursera/gapminder.csv', low_memory=False) #marscrater_pds.csv nesarc_pds.csv addhealth_pds.csv gapminder.csv ool_pds.csv\r\n",
    "\r\n",
    "print(len(data))            #The number of observation (rows)\r\n",
    "print(len(data.columns))    #The number of variables (columns)\r\n",
    "print(data.head(5))"
   ],
   "outputs": [
    {
     "output_type": "stream",
     "name": "stdout",
     "text": [
      "213\n",
      "16\n",
      "       country   incomeperperson alcconsumption armedforcesrate  \\\n",
      "0  Afghanistan                              .03        .5696534   \n",
      "1      Albania  1914.99655094922           7.29       1.0247361   \n",
      "2      Algeria  2231.99333515006            .69        2.306817   \n",
      "3      Andorra  21943.3398976022          10.17                   \n",
      "4       Angola  1381.00426770244           5.57       1.4613288   \n",
      "\n",
      "  breastcancerper100th      co2emissions  femaleemployrate hivrate  \\\n",
      "0                 26.8          75944000  25.6000003814697           \n",
      "1                 57.4  223747333.333333  42.0999984741211           \n",
      "2                 23.5  2932108666.66667  31.7000007629394      .1   \n",
      "3                                                                    \n",
      "4                 23.1         248358000  69.4000015258789       2   \n",
      "\n",
      "    internetuserate lifeexpectancy     oilperperson polityscore  \\\n",
      "0  3.65412162280064         48.673                            0   \n",
      "1  44.9899469578783         76.918                            9   \n",
      "2  12.5000733055148         73.131  .42009452521537           2   \n",
      "3                81                                               \n",
      "4  9.99995388324075         51.093                           -2   \n",
      "\n",
      "  relectricperperson   suicideper100th        employrate urbanrate  \n",
      "0                     6.68438529968262  55.7000007629394     24.04  \n",
      "1   636.341383366604  7.69932985305786  51.4000015258789     46.72  \n",
      "2   590.509814347428   4.8487696647644              50.5     65.22  \n",
      "3                     5.36217880249023                       88.92  \n",
      "4   172.999227388199  14.5546770095825  75.6999969482422      56.7  \n"
     ]
    }
   ],
   "metadata": {}
  },
  {
   "cell_type": "code",
   "execution_count": null,
   "source": [],
   "outputs": [],
   "metadata": {}
  }
 ],
 "metadata": {
  "orig_nbformat": 4,
  "language_info": {
   "name": "python",
   "version": "3.8.2",
   "mimetype": "text/x-python",
   "codemirror_mode": {
    "name": "ipython",
    "version": 3
   },
   "pygments_lexer": "ipython3",
   "nbconvert_exporter": "python",
   "file_extension": ".py"
  },
  "kernelspec": {
   "name": "python3",
   "display_name": "Python 3.8.2 32-bit"
  },
  "interpreter": {
   "hash": "19dd5068fd4c406359a86f27249fc517a25f1ed5fa0eb2341423f3354c0b7639"
  }
 },
 "nbformat": 4,
 "nbformat_minor": 2
}