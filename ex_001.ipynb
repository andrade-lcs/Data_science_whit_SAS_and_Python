{
 "cells": [
  {
   "cell_type": "code",
   "execution_count": null,
   "source": [
    "import pandas as pd\r\n",
    "import numpy as np\r\n",
    "\r\n",
    "\r\n",
    "data =  pd.read_csv('D:/Usuario/Documents/MeusDados/coursera/nesarc_pds.csv', low_memory=False)#marscrater_pds.csv nesarc_pds.csv addhealth_pds.csv gapminder.csv ool_pds.csv\r\n",
    "\r\n",
    "print(len(data))            #The number of observation (rows)\r\n",
    "print('variables:', len(data.columns))    #The number of variables (columns)\r\n",
    "#print(data.head(5))\r\n",
    "\r\n",
    "print('counts for TAB12MDX \"Tabacco Dependece Past 12 Months\"')\r\n",
    "c1 = data['AB12MDX'].value_counts(sort=False)\r\n",
    "print('c1:', c1)\r\n",
    "p1 = data['AB12MDX'].value_counts(sort=False, normalize=True)\r\n",
    "print('porcentagem for TAB12MDX \"Tabacco Dependece Past 12 Months\"')\r\n",
    "print('p1:', p1)\r\n",
    "c2 = data['CHECK321'].value_counts(sort=False)\r\n",
    "print('c2:', c2)\r\n",
    "p2 = data['CHECK321'].value_counts(sort=False, normalize=True)\r\n",
    "print('p2:', p2)\r\n",
    "c3 = data['S3AQ3B1'].value_counts(sort=False)\r\n",
    "print('c3:', c3)\r\n",
    "p3 = data['S3AQ3B1'].value_counts(sort=False, normalize=True)\r\n",
    "print('p3:', p3)\r\n",
    "c4 = data['S3AQ3C1'].value_counts(sort=False)\r\n",
    "print('c4:', c4)\r\n",
    "p4 = data['S3AQ3C1'].value_counts(sort=False, normalize=True)\r\n",
    "print('p4:', p4)"
   ],
   "outputs": [],
   "metadata": {}
  },
  {
   "cell_type": "code",
   "execution_count": null,
   "source": [],
   "outputs": [],
   "metadata": {}
  }
 ],
 "metadata": {
  "orig_nbformat": 4,
  "language_info": {
   "name": "python",
   "version": "3.8.2",
   "mimetype": "text/x-python",
   "codemirror_mode": {
    "name": "ipython",
    "version": 3
   },
   "pygments_lexer": "ipython3",
   "nbconvert_exporter": "python",
   "file_extension": ".py"
  },
  "kernelspec": {
   "name": "python3",
   "display_name": "Python 3.8.2 32-bit"
  },
  "interpreter": {
   "hash": "19dd5068fd4c406359a86f27249fc517a25f1ed5fa0eb2341423f3354c0b7639"
  }
 },
 "nbformat": 4,
 "nbformat_minor": 2
}